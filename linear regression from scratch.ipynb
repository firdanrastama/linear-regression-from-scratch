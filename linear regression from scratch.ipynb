{
 "cells": [
  {
   "cell_type": "code",
   "execution_count": 1,
   "id": "75a1fde5",
   "metadata": {},
   "outputs": [],
   "source": [
    "# Importing libraries\n",
    "import numpy as np\n",
    "import pandas as pd\n",
    "import matplotlib.pyplot as plt\n",
    "import seaborn as sns\n",
    "from sklearn.model_selection import train_test_split\n",
    "\n",
    "%matplotlib inline"
   ]
  },
  {
   "cell_type": "code",
   "execution_count": 2,
   "id": "22f434f0",
   "metadata": {},
   "outputs": [],
   "source": [
    "class LinearRegression():\n",
    "    \n",
    "    # Initiating the parameters\n",
    "    def __init__(self, learning_rate, iterations):\n",
    "        self.learning_rate = learning_rate\n",
    "        self.iterations = iterations\n",
    "        \n",
    "    def fit(self, X, y): # Fit the model\n",
    "        \n",
    "        # number of data and number of features\n",
    "        self.p, self.n = X.shape\n",
    "        \n",
    "        # Initiating the weight and bias(y-intercept and the slope)\n",
    "        self.m = np.zeros(self.n)\n",
    "        self.b = 0\n",
    "        self.X = X\n",
    "        self.y = y\n",
    "        \n",
    "        for i in range(self.iterations):\n",
    "            self.gradient_descent()\n",
    "            \n",
    "    def gradient_descent(self):\n",
    "        y_pred = self.predict(self.X)\n",
    "        \n",
    "        # Calculate the derivatives\n",
    "        m_derivative = -(2 * (self.X.T).dot(self.y - y_pred)) / self.p\n",
    "        b_derivative = -2 * np.sum(self.y - y_pred) / self.p\n",
    "        \n",
    "        # Updating the values \n",
    "        self.m = self.m - self.learning_rate * m_derivative\n",
    "        self.b = self.b - self.learning_rate * b_derivative\n",
    "        \n",
    "    def predict(self, X):\n",
    "        return X.dot(self.m) + self.b  # The equations\n",
    "        \n",
    "        "
   ]
  },
  {
   "cell_type": "code",
   "execution_count": 3,
   "id": "f371cc44",
   "metadata": {},
   "outputs": [],
   "source": [
    "# Load the data \n",
    "df = pd.read_csv('salary_data.csv')"
   ]
  },
  {
   "cell_type": "code",
   "execution_count": 4,
   "id": "5d9cf760",
   "metadata": {
    "scrolled": true
   },
   "outputs": [
    {
     "data": {
      "text/html": [
       "<div>\n",
       "<style scoped>\n",
       "    .dataframe tbody tr th:only-of-type {\n",
       "        vertical-align: middle;\n",
       "    }\n",
       "\n",
       "    .dataframe tbody tr th {\n",
       "        vertical-align: top;\n",
       "    }\n",
       "\n",
       "    .dataframe thead th {\n",
       "        text-align: right;\n",
       "    }\n",
       "</style>\n",
       "<table border=\"1\" class=\"dataframe\">\n",
       "  <thead>\n",
       "    <tr style=\"text-align: right;\">\n",
       "      <th></th>\n",
       "      <th>YearsExperience</th>\n",
       "      <th>Salary</th>\n",
       "    </tr>\n",
       "  </thead>\n",
       "  <tbody>\n",
       "    <tr>\n",
       "      <th>0</th>\n",
       "      <td>1.1</td>\n",
       "      <td>39343</td>\n",
       "    </tr>\n",
       "    <tr>\n",
       "      <th>1</th>\n",
       "      <td>1.3</td>\n",
       "      <td>46205</td>\n",
       "    </tr>\n",
       "    <tr>\n",
       "      <th>2</th>\n",
       "      <td>1.5</td>\n",
       "      <td>37731</td>\n",
       "    </tr>\n",
       "    <tr>\n",
       "      <th>3</th>\n",
       "      <td>2.0</td>\n",
       "      <td>43525</td>\n",
       "    </tr>\n",
       "    <tr>\n",
       "      <th>4</th>\n",
       "      <td>2.2</td>\n",
       "      <td>39891</td>\n",
       "    </tr>\n",
       "  </tbody>\n",
       "</table>\n",
       "</div>"
      ],
      "text/plain": [
       "   YearsExperience  Salary\n",
       "0              1.1   39343\n",
       "1              1.3   46205\n",
       "2              1.5   37731\n",
       "3              2.0   43525\n",
       "4              2.2   39891"
      ]
     },
     "execution_count": 4,
     "metadata": {},
     "output_type": "execute_result"
    }
   ],
   "source": [
    "df.head()"
   ]
  },
  {
   "cell_type": "code",
   "execution_count": 5,
   "id": "224c1f63",
   "metadata": {},
   "outputs": [
    {
     "data": {
      "text/plain": [
       "(30, 2)"
      ]
     },
     "execution_count": 5,
     "metadata": {},
     "output_type": "execute_result"
    }
   ],
   "source": [
    "# The shape of the data\n",
    "df.shape"
   ]
  },
  {
   "cell_type": "markdown",
   "id": "272901c7",
   "metadata": {},
   "source": [
    "#### Data Preprocessing"
   ]
  },
  {
   "cell_type": "code",
   "execution_count": 6,
   "id": "e68a7f05",
   "metadata": {},
   "outputs": [
    {
     "data": {
      "text/plain": [
       "YearsExperience    0\n",
       "Salary             0\n",
       "dtype: int64"
      ]
     },
     "execution_count": 6,
     "metadata": {},
     "output_type": "execute_result"
    }
   ],
   "source": [
    "# Checking for missing values\n",
    "df.isnull().sum()"
   ]
  },
  {
   "cell_type": "code",
   "execution_count": 7,
   "id": "de542693",
   "metadata": {},
   "outputs": [],
   "source": [
    "X = df.iloc[:,:-1].values      \n",
    "y = df.iloc[:,1].values"
   ]
  },
  {
   "cell_type": "code",
   "execution_count": 8,
   "id": "340573f8",
   "metadata": {},
   "outputs": [],
   "source": [
    "# Split the training and test data\n",
    "X_train, X_test, y_train, y_test = train_test_split(X, y, test_size = 0.3, random_state = 42)"
   ]
  },
  {
   "cell_type": "code",
   "execution_count": 9,
   "id": "3b6cb2fe",
   "metadata": {},
   "outputs": [
    {
     "name": "stdout",
     "output_type": "stream",
     "text": [
      "(21, 1) (9, 1)\n"
     ]
    }
   ],
   "source": [
    "print(X_train.shape, X_test.shape)"
   ]
  },
  {
   "cell_type": "code",
   "execution_count": 10,
   "id": "864eb436",
   "metadata": {},
   "outputs": [
    {
     "name": "stdout",
     "output_type": "stream",
     "text": [
      "(21,) (9,)\n"
     ]
    }
   ],
   "source": [
    "print(y_train.shape, y_test.shape)"
   ]
  },
  {
   "cell_type": "code",
   "execution_count": 11,
   "id": "dd838db9",
   "metadata": {},
   "outputs": [],
   "source": [
    "# Training our model\n",
    "model = LinearRegression(learning_rate = 0.01, iterations = 1000)"
   ]
  },
  {
   "cell_type": "code",
   "execution_count": 12,
   "id": "796b7362",
   "metadata": {
    "scrolled": true
   },
   "outputs": [],
   "source": [
    "# Fit our model\n",
    "model.fit(X_train, y_train)"
   ]
  },
  {
   "cell_type": "code",
   "execution_count": 13,
   "id": "79cf539d",
   "metadata": {},
   "outputs": [
    {
     "name": "stdout",
     "output_type": "stream",
     "text": [
      "slope:  9372.141864857393\n",
      "y-intercept:  25709.221742972182\n"
     ]
    }
   ],
   "source": [
    "print('slope: ', model.m[0])\n",
    "print('y-intercept: ', model.b)"
   ]
  },
  {
   "cell_type": "markdown",
   "id": "3ef1022c",
   "metadata": {},
   "source": [
    "The equation for predicting values:\n",
    "\n",
    "y = 9372(x) + 25709"
   ]
  },
  {
   "cell_type": "code",
   "execution_count": 14,
   "id": "683e8ab5",
   "metadata": {},
   "outputs": [
    {
     "name": "stdout",
     "output_type": "stream",
     "text": [
      "[ 36018.57779432  46327.93384566  73507.14525374  52888.43315106\n",
      "  64135.00338889  63197.7892024   99749.14247535  37893.00616729\n",
      "  39767.43454026 110058.49852669  44453.50547269  92251.42898346\n",
      " 114744.56945912  81004.85874563 124116.71132397  89439.786424\n",
      "  55700.07571052  62260.57501592  67883.86013483  81942.07293212\n",
      "  53825.64733754]\n"
     ]
    }
   ],
   "source": [
    "predict = model.predict(X_train)\n",
    "print(predict)"
   ]
  },
  {
   "cell_type": "code",
   "execution_count": 15,
   "id": "e29f705f",
   "metadata": {},
   "outputs": [
    {
     "data": {
      "image/png": "[encoded data removed]",
      "text/plain": [
       "<Figure size 432x288 with 1 Axes>"
      ]
     },
     "metadata": {
      "needs_background": "light"
     },
     "output_type": "display_data"
    }
   ],
   "source": [
    "# Plotting actual vs predicted\n",
    "plt.scatter(X_train, y_train, color='blue')\n",
    "plt.plot(X_train, predict, color='red')\n",
    "plt.xlabel('Year Experience')\n",
    "plt.ylabel('Salary')\n",
    "plt.title('Salary vs Year Experience')\n",
    "plt.show()"
   ]
  },
  {
   "cell_type": "code",
   "execution_count": 16,
   "id": "71085199",
   "metadata": {},
   "outputs": [
    {
     "data": {
      "text/plain": [
       "<AxesSubplot:>"
      ]
     },
     "execution_count": 16,
     "metadata": {},
     "output_type": "execute_result"
    },
    {
     "data": {
      "image/png": "[encoded data removed]",
      "text/plain": [
       "<Figure size 432x288 with 1 Axes>"
      ]
     },
     "metadata": {
      "needs_background": "light"
     },
     "output_type": "display_data"
    }
   ],
   "source": [
    "# Plotting residual plot\n",
    "sns.residplot(x=y_train, y=predict)"
   ]
  },
  {
   "cell_type": "code",
   "execution_count": 17,
   "id": "13bbcb97",
   "metadata": {},
   "outputs": [],
   "source": [
    "# Function for mean squared error\n",
    "def mean_squared_error(y, y_predict):\n",
    "    n = len(y)\n",
    "    return np.sum(np.square(y- y_predict)) / n\n",
    "\n",
    "# Function for mean absolute error\n",
    "def mean_absolute_error(y, y_predict):\n",
    "    n = len(y)\n",
    "    return np.sum(np.abs(y - y_predict)) / n\n",
    "    "
   ]
  },
  {
   "cell_type": "code",
   "execution_count": 18,
   "id": "68d4c661",
   "metadata": {},
   "outputs": [
    {
     "name": "stdout",
     "output_type": "stream",
     "text": [
      "The MSE:  28932814.539839126\n"
     ]
    }
   ],
   "source": [
    "print('The MSE: ', mean_squared_error(y_train, predict))"
   ]
  },
  {
   "cell_type": "code",
   "execution_count": 19,
   "id": "a3bec7e8",
   "metadata": {
    "scrolled": true
   },
   "outputs": [
    {
     "name": "stdout",
     "output_type": "stream",
     "text": [
      "The MAE:  4438.659948278766\n"
     ]
    }
   ],
   "source": [
    "print('The MAE: ', mean_absolute_error(y_train, predict))"
   ]
  }
 ],
 "metadata": {
  "kernelspec": {
   "display_name": "Python 3 (ipykernel)",
   "language": "python",
   "name": "python3"
  },
  "language_info": {
   "codemirror_mode": {
    "name": "ipython",
    "version": 3
   },
   "file_extension": ".py",
   "mimetype": "text/x-python",
   "name": "python",
   "nbconvert_exporter": "python",
   "pygments_lexer": "ipython3",
   "version": "3.9.7"
  }
 },
 "nbformat": 4,
 "nbformat_minor": 5
}
